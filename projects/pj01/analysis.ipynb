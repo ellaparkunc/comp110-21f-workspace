{
 "cells": [
  {
   "cell_type": "markdown",
   "metadata": {},
   "source": [
    "# Hypothesis: people in the In-Person Class are more likely to rate higher on understanding than those in Asynchronous."
   ]
  },
  {
   "cell_type": "markdown",
   "metadata": {},
   "source": [
    "Making sure my changes are autoreloaded and saved."
   ]
  },
  {
   "cell_type": "code",
   "execution_count": 42,
   "metadata": {},
   "outputs": [],
   "source": [
    "    %reload_ext autoreload\n",
    "    %autoreload 2"
   ]
  },
  {
   "cell_type": "markdown",
   "metadata": {},
   "source": [
    "Showing the computer how to find my data."
   ]
  },
  {
   "cell_type": "code",
   "execution_count": 43,
   "metadata": {},
   "outputs": [],
   "source": [
    "DATA_DIRECTORY=\"../../data\"\n",
    "DATA_FILE_PATH=f\"{DATA_DIRECTORY}/survey.csv\""
   ]
  },
  {
   "cell_type": "markdown",
   "metadata": {},
   "source": [
    "Reading the rows of a csv into a 'table' and converting this into a column-oriented table"
   ]
  },
  {
   "cell_type": "code",
   "execution_count": 44,
   "metadata": {},
   "outputs": [],
   "source": [
    "from data_utils import read_csv_rows, columnar\n",
    "\n",
    "data_rows: list[dict[str,str]] = read_csv_rows(DATA_FILE_PATH)\n",
    "columns: dict[str, list[str]] = columnar(data_rows)"
   ]
  },
  {
   "cell_type": "markdown",
   "metadata": {},
   "source": [
    "Shows the first 10 rows of the section and understanding columns in a column based table (the two varriables we are comparing)"
   ]
  },
  {
   "cell_type": "code",
   "execution_count": 45,
   "metadata": {},
   "outputs": [
    {
     "data": {
      "text/plain": [
       "{'section': ['In-Person',\n",
       "  'In-Person',\n",
       "  'Remote',\n",
       "  '',\n",
       "  'Remote',\n",
       "  'Remote',\n",
       "  'Remote',\n",
       "  'Remote',\n",
       "  'Remote',\n",
       "  'Remote'],\n",
       " 'understanding': ['4', '7', '6', '4', '4', '6', '4', '4', '5', '3']}"
      ]
     },
     "execution_count": 45,
     "metadata": {},
     "output_type": "execute_result"
    }
   ],
   "source": [
    "from data_utils import head, select\n",
    "\n",
    "subset: dict[str, list[str]] = select(columns, [\"section\", \"understanding\"])\n",
    "head(subset, 10)"
   ]
  },
  {
   "cell_type": "markdown",
   "metadata": {},
   "source": [
    "Initializing the dictionary where my most important data for analysis will be found and the lists where intermediate data will be stored"
   ]
  },
  {
   "cell_type": "code",
   "execution_count": 46,
   "metadata": {},
   "outputs": [],
   "source": [
    "answer: dict[str, float] = {}\n",
    "in_person: list[int] = []\n",
    "remote: list[int] = []"
   ]
  },
  {
   "cell_type": "markdown",
   "metadata": {},
   "source": [
    "Defining a function which can average the understanding values for each class and place them in a dictionary."
   ]
  },
  {
   "cell_type": "code",
   "execution_count": 47,
   "metadata": {},
   "outputs": [],
   "source": [
    "def helper(column_section: list[str], column_understanding: list[str]) -> dict[str, float]:\n",
    "    \"\"\"Averaging the in person students' understanding and the remote students' understanding.\"\"\"\n",
    "\n",
    "    \"\"\"Makes 2 lists, rates of understanding for in-person and for remote.\"\"\"\n",
    "    i: int = 0\n",
    "    while i < len(column_section):\n",
    "        if column_section[i] == 'In-Person':\n",
    "            in_person.append(column_understanding[i])\n",
    "        if column_section[i] == 'Remote':\n",
    "            remote.append(column_understanding[i])\n",
    "        i += 1\n",
    "    \n",
    "    \"\"\"Averages the understanding for each class and puts them into the dict.\"\"\"\n",
    "    average_person: int = 0\n",
    "    for understanding in in_person:\n",
    "        average_person += int(understanding)\n",
    "    average_person = average_person/len(in_person)\n",
    "    average_remote: int = 0\n",
    "    for understanding in remote:\n",
    "        average_remote += int(understanding)\n",
    "    average_remote = average_remote/len(remote)\n",
    "    answer[\"In_Person_Average_Understanding\"] = average_person\n",
    "    answer[\"Remote_Average_Understanding\"] = average_remote\n",
    "    \n",
    "    return(answer)"
   ]
  },
  {
   "cell_type": "markdown",
   "metadata": {},
   "source": [
    "Calling the helper function using our specific Class Section and Rate of Understanding values for the UNC 2021 Comp 110 survey values."
   ]
  },
  {
   "cell_type": "code",
   "execution_count": 48,
   "metadata": {},
   "outputs": [
    {
     "data": {
      "text/plain": [
       "{'In_Person_Average_Understanding': 4.248571428571428,\n",
       " 'Remote_Average_Understanding': 4.380208333333333}"
      ]
     },
     "execution_count": 48,
     "metadata": {},
     "output_type": "execute_result"
    }
   ],
   "source": [
    "helper(subset['section'], subset['understanding'])"
   ]
  },
  {
   "cell_type": "markdown",
   "metadata": {},
   "source": [
    "Graph of my Data: Average Survey Values for the Rate of Understanding for the In Person vs. Remote Class Sections"
   ]
  },
  {
   "cell_type": "code",
   "execution_count": 49,
   "metadata": {},
   "outputs": [
    {
     "data": {
      "text/plain": [
       "<AxesSubplot:>"
      ]
     },
     "execution_count": 49,
     "metadata": {},
     "output_type": "execute_result"
    },
    {
     "data": {
      "image/png": "[encoded data removed]",
      "text/plain": [
       "<Figure size 432x288 with 1 Axes>"
      ]
     },
     "metadata": {
      "needs_background": "light"
     },
     "output_type": "display_data"
    }
   ],
   "source": [
    "import seaborn\n",
    "\n",
    "seaborn.barplot(x=[\"In Person\", \"Remote\"], y=[answer[\"In_Person_Average_Understanding\"], answer[\"Remote_Average_Understanding\"]])"
   ]
  },
  {
   "cell_type": "markdown",
   "metadata": {},
   "source": [
    "Graph: A histogram of the Count of Students in the In Person Class and their Rated Understanding from 1-7"
   ]
  },
  {
   "cell_type": "code",
   "execution_count": 50,
   "metadata": {},
   "outputs": [
    {
     "data": {
      "image/png": "[encoded data removed]",
      "text/plain": [
       "<Figure size 432x288 with 1 Axes>"
      ]
     },
     "metadata": {
      "needs_background": "light"
     },
     "output_type": "display_data"
    }
   ],
   "source": [
    "import seaborn\n",
    "\n",
    "graphy = seaborn.histplot(data=in_person)\n",
    "# graphy.axes('The Title')"
   ]
  },
  {
   "cell_type": "markdown",
   "metadata": {},
   "source": [
    "Graph: A histogram of the Count of Students in the Remote Class and their Rated Understanding from 1-7"
   ]
  },
  {
   "cell_type": "code",
   "execution_count": 51,
   "metadata": {},
   "outputs": [
    {
     "data": {
      "text/plain": [
       "<AxesSubplot:ylabel='Count'>"
      ]
     },
     "execution_count": 51,
     "metadata": {},
     "output_type": "execute_result"
    },
    {
     "data": {
      "image/png": "[encoded data removed]",
      "text/plain": [
       "<Figure size 432x288 with 1 Axes>"
      ]
     },
     "metadata": {
      "needs_background": "light"
     },
     "output_type": "display_data"
    }
   ],
   "source": [
    "import seaborn\n",
    "\n",
    "seaborn.histplot(data=remote, kde=True)"
   ]
  },
  {
   "cell_type": "markdown",
   "metadata": {},
   "source": [
    "A summary of whether or not my data supports my hypothesis."
   ]
  },
  {
   "cell_type": "code",
   "execution_count": 52,
   "metadata": {},
   "outputs": [
    {
     "name": "stdout",
     "output_type": "stream",
     "text": [
      "My hypothesis was incorrect, because the In-Person class rated their understanding at an average of 4.248571428571428, which is less than or equal to the Asynchronous Class's average understanding rating of 4.380208333333333.\n"
     ]
    }
   ],
   "source": [
    "if answer[\"In_Person_Average_Understanding\"] > answer[\"Remote_Average_Understanding\"]:\n",
    "    print(f\"My hypothesis was correct, because the In-Person class rated their understanding at an average of {answer['In_Person_Average_Understanding']}, which is greater than the Asynchronous Class's average understanding rating of {answer['Remote_Average_Understanding']}.\")\n",
    "else:\n",
    "    print(f\"My hypothesis was incorrect, because the In-Person class rated their understanding at an average of {answer['In_Person_Average_Understanding']}, which is less than or equal to the Asynchronous Class's average understanding rating of {answer['Remote_Average_Understanding']}.\")"
   ]
  },
  {
   "cell_type": "markdown",
   "metadata": {},
   "source": [
    "## Conclusion"
   ]
  },
  {
   "cell_type": "markdown",
   "metadata": {},
   "source": [
    "Surprisingly, the students in the asynchronous section rated themselves higher on understanding than those going to class in person. In other words, my data did not support my hypothesis. Perhaps this is because they get to watch the lectures at their own speed (using youtube's speed function) and from a location and time most comfortable for them."
   ]
  }
 ],
 "metadata": {
  "interpreter": {
   "hash": "8736a70befd45c9215eda3f21a3a4741d4ec60cfba33745bf065eafb0e424649"
  },
  "kernelspec": {
   "display_name": "Python 3.9.7 64-bit",
   "name": "python3"
  },
  "language_info": {
   "codemirror_mode": {
    "name": "ipython",
    "version": 3
   },
   "file_extension": ".py",
   "mimetype": "text/x-python",
   "name": "python",
   "nbconvert_exporter": "python",
   "pygments_lexer": "ipython3",
   "version": "3.9.7"
  },
  "orig_nbformat": 4
 },
 "nbformat": 4,
 "nbformat_minor": 2
}
